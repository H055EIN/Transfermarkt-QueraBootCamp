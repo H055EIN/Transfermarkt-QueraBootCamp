{
 "cells": [
  {
   "cell_type": "code",
   "execution_count": 25,
   "metadata": {},
   "outputs": [],
   "source": [
    "import pandas as pd\n",
    "import numpy as np"
   ]
  },
  {
   "attachments": {},
   "cell_type": "markdown",
   "metadata": {},
   "source": [
    "Concat Tables of GoalKeepers detailed info and Other players:"
   ]
  },
  {
   "cell_type": "code",
   "execution_count": 29,
   "metadata": {},
   "outputs": [],
   "source": [
    "df1 = pd.read_json('Players_ex_gk_detailed_table.json')\n",
    "df2 = pd.read_json('Gk_detailed_table.json')\n",
    "df = pd.concat([df2, df1], ignore_index=True, sort=False)\n",
    "df = df.sort_values('Player_id', ascending=False)\n",
    "df = df.reset_index(drop=True)\n",
    "# df.to_json('P2_player_state', orient='records', indent=4)"
   ]
  },
  {
   "attachments": {},
   "cell_type": "markdown",
   "metadata": {},
   "source": [
    "Extract all Club name with their IDs:"
   ]
  },
  {
   "cell_type": "code",
   "execution_count": 30,
   "metadata": {},
   "outputs": [],
   "source": [
    "team_list = df[['Club','Team_id']].drop_duplicates()\n",
    "team_list = team_list.sort_values('Team_id', ascending=False)\n",
    "team_list = team_list.reset_index(drop=True)\n",
    "# team_list.to_json('P2_teams.json', orient='records', indent=4)"
   ]
  },
  {
   "attachments": {},
   "cell_type": "markdown",
   "metadata": {},
   "source": [
    "Extract all competition list and define Competition ID:"
   ]
  },
  {
   "cell_type": "code",
   "execution_count": 28,
   "metadata": {},
   "outputs": [],
   "source": [
    "competition_list = df[['Competition']].drop_duplicates()\n",
    "competition_list = competition_list.sort_values('Competition', ascending=True)\n",
    "competition_list = competition_list.reset_index(drop=True)\n",
    "# competition_list.to_json('P2_competitions.json', orient='records', indent=4)\n"
   ]
  },
  {
   "attachments": {},
   "cell_type": "markdown",
   "metadata": {},
   "source": [
    "Merge total information of players with their general information:"
   ]
  },
  {
   "cell_type": "code",
   "execution_count": 31,
   "metadata": {},
   "outputs": [],
   "source": [
    "df3 = pd.read_json('total_apperance_info_players.json')\n",
    "df4 = pd.read_json('total_apperance_info_gks.json')\n",
    "df = pd.concat([df3, df4], ignore_index=True, sort=False)\n",
    "df = df.sort_values('player_id', ascending=False)\n",
    "df = df.reset_index(drop=True)"
   ]
  },
  {
   "cell_type": "code",
   "execution_count": 32,
   "metadata": {},
   "outputs": [],
   "source": [
    "cols = list(df.columns)\n",
    "cols = [cols[-3]] + cols[:-3] + cols[-2:]\n",
    "df = df[cols]\n",
    "df = df.rename(columns={'player_id':'Player_id','Squad':'Total_squad','Apperance':'Total_apperance',\n",
    "                        'PPG': 'mean_ppg','Goals':'Total_goals','Assists':'Total_assists','Yellow_card':'total_yellow',\n",
    "                        'Red_card':'total_red','Minutes_per_goal':'total_minutes_per_goal',\n",
    "                        'Minutes_played':'Total_minutes_played','Goals_conceded':'Total_goal_conceded',\n",
    "                        'Clean_sheets':'Total_clean_sheets'})"
   ]
  },
  {
   "cell_type": "code",
   "execution_count": 33,
   "metadata": {},
   "outputs": [],
   "source": [
    "df5 = pd.read_json('player_details.json')\n",
    "df5 = df5.rename(columns={'Player_ID': 'Player_id','Goals':'International_goals'})\n",
    "df5=df5.drop('Joined', axis=1)"
   ]
  },
  {
   "cell_type": "code",
   "execution_count": 34,
   "metadata": {},
   "outputs": [],
   "source": [
    "player_totals = pd.merge(df, df5, on='Player_id', how='inner')\n",
    "# player_totals.to_json('Players.json', orient='records', indent=4)"
   ]
  }
 ],
 "metadata": {
  "kernelspec": {
   "display_name": "qenv",
   "language": "python",
   "name": "qenv"
  },
  "language_info": {
   "codemirror_mode": {
    "name": "ipython",
    "version": 3
   },
   "file_extension": ".py",
   "mimetype": "text/x-python",
   "name": "python",
   "nbconvert_exporter": "python",
   "pygments_lexer": "ipython3",
   "version": "3.9.13"
  },
  "orig_nbformat": 4
 },
 "nbformat": 4,
 "nbformat_minor": 2
}
