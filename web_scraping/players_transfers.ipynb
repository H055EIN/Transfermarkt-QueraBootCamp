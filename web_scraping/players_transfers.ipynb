{
 "cells": [
  {
   "cell_type": "code",
   "execution_count": 5,
   "metadata": {},
   "outputs": [
    {
     "name": "stdout",
     "output_type": "stream",
     "text": [
      "2197/2197\r"
     ]
    }
   ],
   "source": [
    "import requests\n",
    "from bs4 import BeautifulSoup\n",
    "import pandas as pd\n",
    "import re\n",
    "\n",
    "\n",
    "#Initialize\n",
    "team_id_pattern = r\"\\/verein\\/(\\d+)\\/saison_id\\/\\d+\"\n",
    "player_id_pattern = r\"\\/profil\\/spieler\\/(\\d+)\"\n",
    "HEADERS = {'User-Agent': 'Mozilla/5.0'}\n",
    "\n",
    "def cleaner(string:str)->str:\n",
    "    if type(string) == str:\n",
    "        string = string.replace(\"\\xa0\",\" \").replace('\\u00e9','').replace('\\u011f','').replace(\"\\n\",\" \").replace(\"  \",\"\").replace('\\u00e1','').replace(\":\",\"\").replace('\\u20ac','')\n",
    "        return string.strip()\n",
    "    else:\n",
    "        return string\n",
    "\n",
    "def team_id_extractor(url_inp:str)->str:\n",
    "    match = re.search(team_id_pattern, url_inp)\n",
    "    team_id = '0'\n",
    "    if match:\n",
    "        team_id = match.group(1)\n",
    "    return(team_id)\n",
    "\n",
    "def player_id_extractor(url_inp:str)->str:\n",
    "    match = re.search(player_id_pattern, url_inp)\n",
    "    player_id = '0'\n",
    "    if match:\n",
    "        player_id = match.group(1)\n",
    "    return(player_id)\n",
    "\n",
    "with open('links.txt', 'r') as file:\n",
    "    urls = [line.strip() for line in file.readlines()]\n",
    "    \n",
    "titles = ['Player_id', 'Season','Date','Left','Joined','MV','Fee','origin_id','destination_id'] \n",
    "players_transfers = pd.DataFrame(columns=titles)\n",
    "\n",
    "class_list = [\"grid__cell grid__cell--center tm-player-transfer-history-grid__season\",\n",
    "              'grid__cell grid__cell--center tm-player-transfer-history-grid__date',\n",
    "              \"grid__cell grid__cell--center tm-player-transfer-history-grid__old-club\",\n",
    "              \"grid__cell grid__cell--center tm-player-transfer-history-grid__new-club\",\n",
    "              \"grid__cell grid__cell--center tm-player-transfer-history-grid__market-value\",\n",
    "              \"grid__cell grid__cell--center tm-player-transfer-history-grid__fee\"]\n",
    "\n",
    "for count,url in enumerate((urls)):\n",
    "    print(f\"{count+1}/{len(urls)}\", end=\"\\r\")\n",
    "    player_id = player_id_extractor(url)\n",
    "    url = url.replace(\"profil\", \"transfers\")\n",
    "    html_content = requests.get(url,headers=HEADERS).text\n",
    "    # Parse the HTML content using BeautifulSoup\n",
    "    soup = BeautifulSoup(html_content, \"html.parser\")\n",
    "    # soup.find_all(\"div\",class_=\"grid__cell grid__cell--center tm-player-transfer-history-grid__market-value\")\n",
    "\n",
    "    rows = []\n",
    "    table = soup.find_all('div' , class_= \"box viewport-tracking\")[0]\n",
    "    for i in table.find_all('div' , class_=\"grid tm-player-transfer-history-grid\"):\n",
    "        cells = []\n",
    "        cells.append(player_id)\n",
    "        for j in range(6):\n",
    "            cells.append(cleaner(i.find('div' , class_=class_list[j]).text))\n",
    "        \n",
    "        try:\n",
    "            cells.append(team_id_extractor(i.find_all('a' , class_='tm-player-transfer-history-grid__club-link')[0].get('href')))\n",
    "        except:\n",
    "            cells.append('0')\n",
    "        \n",
    "        try:\n",
    "            cells.append(team_id_extractor(i.find_all('a' , class_='tm-player-transfer-history-grid__club-link')[1].get('href')))\n",
    "        except: \n",
    "            cells.append('0')\n",
    "        rows.append(cells)\n",
    "    df = pd.DataFrame(rows, columns=titles)\n",
    "    players_transfers = players_transfers.append(df, ignore_index=True)\n",
    "players_transfers = players_transfers.applymap(cleaner)\n",
    "players_transfers.to_json('players_transfers.json', orient='records', indent=4)"
   ]
  },
  {
   "cell_type": "code",
   "execution_count": 1,
   "metadata": {},
   "outputs": [],
   "source": [
    "data = pd.read_json('players_transfers.json')\n",
    "df = pd.DataFrame(data)\n",
    "\n",
    "df"
   ]
  },
  {
   "cell_type": "code",
   "execution_count": null,
   "metadata": {},
   "outputs": [],
   "source": []
  }
 ],
 "metadata": {
  "kernelspec": {
   "display_name": "Python 3",
   "language": "python",
   "name": "python3"
  },
  "language_info": {
   "codemirror_mode": {
    "name": "ipython",
    "version": 3
   },
   "file_extension": ".py",
   "mimetype": "text/x-python",
   "name": "python",
   "nbconvert_exporter": "python",
   "pygments_lexer": "ipython3",
   "version": "3.10.6"
  },
  "orig_nbformat": 4
 },
 "nbformat": 4,
 "nbformat_minor": 2
}
