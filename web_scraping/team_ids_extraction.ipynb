{
 "cells": [
  {
   "cell_type": "code",
   "execution_count": 4,
   "metadata": {},
   "outputs": [],
   "source": [
    "import re\n",
    "\n",
    "url1 = 'https://www.transfermarkt.com/ssc-neapel/startseite/verein/6195/saison_id/2022'\n",
    "\n",
    "url2 = 'https://www.transfermarkt.com/ssc-neapel/startseite/verein/6195/saison_id/2022'\n",
    "\n",
    "url3 = 'https://www.transfermarkt.com/ac-mailand/startseite/verein/5/saison_id/2022'\n",
    "\n",
    "url4 = 'https://www.transfermarkt.com/inter-mailand/startseite/verein/46/saison_id/2022'\n",
    "\n",
    "url5 = 'https://www.transfermarkt.com/juventus-turin/startseite/verein/506/saison_id/2022'\n",
    "\n",
    "url6 = 'https://www.transfermarkt.com/atalanta-bergamo/startseite/verein/800/saison_id/2022'\n",
    "\n",
    "url7 = 'https://www.transfermarkt.com/as-rom/startseite/verein/12/saison_id/2022'\n",
    "\n",
    "url8 = 'https://www.transfermarkt.com/fc-bayern-munchen/startseite/verein/27/saison_id/2022'\n",
    "\n",
    "url9 = 'https://www.transfermarkt.com/borussia-dortmund/startseite/verein/16/saison_id/2022'\n",
    "\n",
    "url10 = 'https://www.transfermarkt.com/rasenballsport-leipzig/startseite/verein/23826/saison_id/2022'\n",
    "\n",
    "url11 = 'https://www.transfermarkt.com/fc-augsburg/startseite/verein/167/saison_id/2022'\n",
    "\n",
    "urls = [url1,url2,url3,url4,url5,url6,url7,url8,url9,url10,url11]\n",
    "\n",
    "pattern = r\"\\/verein\\/(\\d+)\\/saison_id\\/\\d+\"\n",
    "ids=[]\n",
    "\n",
    "for url in urls:\n",
    "    match = re.search(pattern, url)\n",
    "    if match:\n",
    "        team_id = match.group(1)\n",
    "        ids.append(team_id)"
   ]
  },
  {
   "cell_type": "code",
   "execution_count": 5,
   "metadata": {},
   "outputs": [
    {
     "data": {
      "text/plain": [
       "['6195', '6195', '5', '46', '506', '800', '12', '27', '16', '23826', '167']"
      ]
     },
     "execution_count": 5,
     "metadata": {},
     "output_type": "execute_result"
    }
   ],
   "source": [
    "ids"
   ]
  },
  {
   "cell_type": "code",
   "execution_count": null,
   "metadata": {},
   "outputs": [],
   "source": []
  }
 ],
 "metadata": {
  "kernelspec": {
   "display_name": "qenv",
   "language": "python",
   "name": "qenv"
  },
  "language_info": {
   "codemirror_mode": {
    "name": "ipython",
    "version": 3
   },
   "file_extension": ".py",
   "mimetype": "text/x-python",
   "name": "python",
   "nbconvert_exporter": "python",
   "pygments_lexer": "ipython3",
   "version": "3.9.13"
  },
  "orig_nbformat": 4
 },
 "nbformat": 4,
 "nbformat_minor": 2
}
